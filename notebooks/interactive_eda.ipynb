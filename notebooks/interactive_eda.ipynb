{
 "cells": [
  {
   "cell_type": "code",
   "execution_count": 1,
   "id": "66b7d15b",
   "metadata": {},
   "outputs": [],
   "source": [
    "import os\n",
    "import numpy as np\n",
    "import pandas as pd\n",
    "import matplotlib.pyplot as plt\n",
    "import calendar\n",
    "import ipywidgets as widgets\n",
    "from ipywidgets import interact\n",
    "\n",
    "# --- Set global Matplotlib parameters ---\n",
    "plt.rcParams[\"font.family\"] = \"serif\"\n",
    "plt.rcParams[\"text.usetex\"] = True\n",
    "plt.rcParams[\"text.latex.preamble\"] = r\"\\usepackage{amsmath}\"\n",
    "plt.rcParams[\"figure.dpi\"] = 1200\n",
    "plt.rcParams[\"font.size\"] = 20\n",
    "plt.rcParams[\"axes.labelsize\"] = 20\n",
    "plt.rcParams[\"axes.titlesize\"] = 20\n",
    "plt.rcParams[\"legend.fontsize\"] = 20\n",
    "plt.rcParams[\"xtick.direction\"] = \"in\"\n",
    "plt.rcParams[\"ytick.direction\"] = \"in\"\n",
    "plt.rcParams[\"xtick.major.size\"] = 5.0\n",
    "plt.rcParams[\"xtick.minor.size\"] = 3.0\n",
    "plt.rcParams[\"ytick.major.size\"] = 5.0\n",
    "plt.rcParams[\"ytick.minor.size\"] = 3.0\n",
    "plt.rcParams[\"axes.linewidth\"] = 1.5\n",
    "plt.rcParams[\"legend.handlelength\"] = 2.0\n",
    "\n",
    "import matplotlib.pyplot as plt\n",
    "plt.rcParams[\"text.usetex\"] = False\n"
   ]
  },
  {
   "cell_type": "markdown",
   "id": "2f9802e6",
   "metadata": {},
   "source": [
    "**Update interactive eda**"
   ]
  },
  {
   "cell_type": "code",
   "execution_count": 2,
   "id": "5a58522b",
   "metadata": {},
   "outputs": [],
   "source": [
    "# --- Load training data (Years 1 and 2) ---\n",
    "train_df = pd.read_excel('.././datasets/training.xlsx', sheet_name='Data')\n",
    "\n",
    "# --- Load testing data (Year 3)\n",
    "test_df = pd.read_excel('.././datasets/testing.xlsx', sheet_name='Data')"
   ]
  },
  {
   "cell_type": "markdown",
   "id": "c2acd87b",
   "metadata": {},
   "source": [
    "**Hourly GHI Variation**"
   ]
  },
  {
   "cell_type": "markdown",
   "id": "3eb65a2e",
   "metadata": {},
   "source": [
    "Training Data (Years 1 and 2)"
   ]
  },
  {
   "cell_type": "code",
   "execution_count": null,
   "id": "85583f6c",
   "metadata": {},
   "outputs": [
    {
     "data": {
      "application/vnd.jupyter.widget-view+json": {
       "model_id": "58554894516e4e0c9440ea56d9be897a",
       "version_major": 2,
       "version_minor": 0
      },
      "text/plain": [
       "interactive(children=(Dropdown(description='Month:', index=3, options={'January': np.int64(1), 'February': np.…"
      ]
     },
     "metadata": {},
     "output_type": "display_data"
    }
   ],
   "source": [
    "def plot_hourly_variation(month, site):\n",
    "    # Create subplots: left plot for Year 1, right plot for Year 2\n",
    "    fig, axes = plt.subplots(1, 2, figsize=(16, 8), sharey=True)\n",
    "    \n",
    "    for idx, year in enumerate([1, 2]):\n",
    "        ax = axes[idx]\n",
    "        # Filter the DataFrame for the selected month and current year\n",
    "        filtered_df = train_df[(train_df[\"Year\"] == year) & (train_df[\"Month\"] == month)]\n",
    "        \n",
    "        # Plot each day's hourly variation\n",
    "        for day in sorted(filtered_df[\"Day\"].unique()):\n",
    "            subset = filtered_df[filtered_df[\"Day\"] == day]\n",
    "            ax.plot(subset[\"Hour\"], subset[site],\n",
    "                    alpha=0.5, linestyle=\"-\", marker=\"o\", lw=1.0)\n",
    "        \n",
    "        # Compute and plot the centroid: average GHI for each hour across all days\n",
    "        centroid = filtered_df.groupby(\"Hour\")[site].mean()\n",
    "        ax.plot(centroid.index, centroid, color='black', lw=2.5, marker='D', linestyle='-', label=\"Centroid\")\n",
    "        \n",
    "        ax.set_xlabel(\"Hour of the Day\")\n",
    "        ax.set_title(f\"Hourly GHI Variation for {calendar.month_name[month]} (Year {year}) - {site}\")\n",
    "        ax.legend(loc=\"upper left\")\n",
    "    \n",
    "    axes[0].set_ylabel(\"GHI (Global Horizontal Irradiance)\")\n",
    "    plt.tight_layout()\n",
    "    plt.show()\n",
    "\n",
    "# Create widget for month selection (using month names for clarity)\n",
    "month_widget = widgets.Dropdown(\n",
    "    options={calendar.month_name[m]: m for m in sorted(train_df[\"Month\"].unique()) if m != 0},\n",
    "    value=4,\n",
    "    description=\"Month:\"\n",
    ")\n",
    "\n",
    "# Create widget for site selection (assumes site columns contain \"GHI\")\n",
    "site_columns = [col for col in train_df.columns if \"GHI\" in col]\n",
    "site_widget = widgets.Dropdown(\n",
    "    options=site_columns,\n",
    "    value=site_columns[0],\n",
    "    description=\"Site:\"\n",
    ")\n",
    "\n",
    "# Use the interactive widget with month and site selections\n",
    "interact(plot_hourly_variation, month=month_widget, site=site_widget);"
   ]
  },
  {
   "cell_type": "code",
   "execution_count": null,
   "id": "9c84493e",
   "metadata": {},
   "outputs": [
    {
     "data": {
      "application/vnd.jupyter.widget-view+json": {
       "model_id": "222cf22b26e94c749fb95cd000906c75",
       "version_major": 2,
       "version_minor": 0
      },
      "text/plain": [
       "interactive(children=(Dropdown(description='Day:', options=(np.int64(1), np.int64(2), np.int64(3), np.int64(4)…"
      ]
     },
     "metadata": {},
     "output_type": "display_data"
    },
    {
     "data": {
      "text/plain": [
       "<function __main__.plot_hourly_variation(day, month, site)>"
      ]
     },
     "execution_count": 4,
     "metadata": {},
     "output_type": "execute_result"
    }
   ],
   "source": [
    "def plot_hourly_variation(day, month, site):\n",
    "    # Create subplots: left for Year 1, right for Year 2\n",
    "    fig, axes = plt.subplots(1, 2, figsize=(16, 8), sharey=True)\n",
    "    \n",
    "    for idx, year in enumerate([1, 2]):\n",
    "        ax = axes[idx]\n",
    "        # Filter the DataFrame for the selected day, month, and year\n",
    "        filtered_df = train_df[(train_df[\"Year\"] == year) & \n",
    "                               (train_df[\"Month\"] == month) & \n",
    "                               (train_df[\"Day\"] == day)]\n",
    "        \n",
    "        # Plot the hourly variation\n",
    "        ax.plot(filtered_df[\"Hour\"], filtered_df[site],\n",
    "                marker=\"o\", linestyle=\"-\", lw=1.5, label=f\"Year {year}\")\n",
    "        \n",
    "        ax.set_xlabel(\"Hour of the Day\")\n",
    "        ax.set_title(f\"{calendar.month_name[month]} {day}, Year {year}\")\n",
    "        ax.legend(loc=\"upper left\")\n",
    "    \n",
    "    axes[0].set_ylabel(\"GHI (Global Horizontal Irradiance)\")\n",
    "    plt.suptitle(f\"Hourly GHI Variation on {calendar.month_name[month]} {day} - {site}\")\n",
    "    plt.show()\n",
    "\n",
    "# Create widget for month selection (using month names for clarity)\n",
    "month_widget = widgets.Dropdown(\n",
    "    options={calendar.month_name[m]: m for m in sorted(train_df[\"Month\"].unique()) if m != 0},\n",
    "    value=4,\n",
    "    description=\"Month:\"\n",
    ")\n",
    "\n",
    "# Create widget for day selection\n",
    "day_widget = widgets.Dropdown(\n",
    "    options=sorted(train_df[\"Day\"].unique()),\n",
    "    value=1,\n",
    "    description=\"Day:\"\n",
    ")\n",
    "\n",
    "# Create widget for site selection (assumes site columns contain \"GHI\")\n",
    "site_columns = [col for col in train_df.columns if \"GHI\" in col]\n",
    "site_widget = widgets.Dropdown(\n",
    "    options=site_columns,\n",
    "    value=site_columns[0],\n",
    "    description=\"Site:\"\n",
    ")\n",
    "\n",
    "# Use the interactive widget: day, month, and site\n",
    "interact(plot_hourly_variation, day=day_widget, month=month_widget, site=site_widget)"
   ]
  },
  {
   "cell_type": "markdown",
   "id": "f23000fa",
   "metadata": {},
   "source": [
    "**Testing Data (Year 3)**"
   ]
  },
  {
   "cell_type": "code",
   "execution_count": 5,
   "id": "1acd00ed",
   "metadata": {},
   "outputs": [
    {
     "data": {
      "application/vnd.jupyter.widget-view+json": {
       "model_id": "dfc9c189cdc243debaa3f9b2bb4f847e",
       "version_major": 2,
       "version_minor": 0
      },
      "text/plain": [
       "interactive(children=(Dropdown(description='Month:', index=3, options={'January': np.int64(1), 'February': np.…"
      ]
     },
     "metadata": {},
     "output_type": "display_data"
    }
   ],
   "source": [
    "def plot_hourly_variation(month, site):\n",
    "    # Filter the testing DataFrame for the specified month and Year 3 (testing data)\n",
    "    filtered_df = test_df[(test_df[\"Year\"] == 3) & (test_df[\"Month\"] == month)]\n",
    "    \n",
    "    plt.figure(figsize=(10, 6))\n",
    "    \n",
    "    # Plot each day's hourly variation\n",
    "    for day in sorted(filtered_df[\"Day\"].unique()):\n",
    "        subset = filtered_df[filtered_df[\"Day\"] == day]\n",
    "        plt.plot(subset[\"Hour\"], subset[site],\n",
    "                 alpha=0.5, linestyle=\"-\", marker=\"o\", lw=1.0)\n",
    "    \n",
    "    # Compute and plot the centroid: average GHI for each hour across all days\n",
    "    centroid = filtered_df.groupby(\"Hour\")[site].mean()\n",
    "    plt.plot(centroid.index, centroid, color='black', lw=2.5, marker='D', linestyle='-', label=\"Centroid\")\n",
    "    \n",
    "    plt.xlabel(\"Hour of the Day\")\n",
    "    plt.ylabel(\"GHI (Global Horizontal Irradiance)\")\n",
    "    plt.title(f\"Hourly GHI Variation for {calendar.month_name[month]} (Year 3) - {site}\")\n",
    "    plt.legend(loc=\"upper left\")\n",
    "    plt.show()\n",
    "\n",
    "# Create widget for month selection (using month names for clarity)\n",
    "month_widget = widgets.Dropdown(\n",
    "    options={calendar.month_name[m]: m for m in sorted(test_df[\"Month\"].unique()) if m != 0},\n",
    "    value=4,\n",
    "    description=\"Month:\"\n",
    ")\n",
    "\n",
    "# Create widget for site selection (assumes site columns contain \"GHI\")\n",
    "site_columns = [col for col in test_df.columns if \"GHI\" in col]\n",
    "site_widget = widgets.Dropdown(\n",
    "    options=site_columns,\n",
    "    value=site_columns[0],\n",
    "    description=\"Site:\"\n",
    ")\n",
    "\n",
    "# Use the interactive widget for month and site selections\n",
    "interact(plot_hourly_variation, month=month_widget, site=site_widget);"
   ]
  },
  {
   "cell_type": "code",
   "execution_count": 6,
   "id": "62524947",
   "metadata": {},
   "outputs": [
    {
     "data": {
      "application/vnd.jupyter.widget-view+json": {
       "model_id": "01712ceaf481418f99d36b454d2d9513",
       "version_major": 2,
       "version_minor": 0
      },
      "text/plain": [
       "interactive(children=(Dropdown(description='Day:', options=(np.int64(1), np.int64(2), np.int64(3), np.int64(4)…"
      ]
     },
     "metadata": {},
     "output_type": "display_data"
    }
   ],
   "source": [
    "def plot_hourly_variation(day, month, site):\n",
    "    # Filter the testing DataFrame for the specified day, month, and Year 3\n",
    "    filtered_df = test_df[(test_df[\"Year\"] == 3) & \n",
    "                          (test_df[\"Month\"] == month) & \n",
    "                          (test_df[\"Day\"] == day)]\n",
    "    \n",
    "    plt.figure(figsize=(10, 6))\n",
    "    \n",
    "    # Plot the hourly variation for Year 3\n",
    "    plt.plot(filtered_df[\"Hour\"], filtered_df[site],\n",
    "             marker=\"o\", linestyle=\"-\", lw=1.5, label=\"Year 3\")\n",
    "    \n",
    "    plt.xlabel(\"Hour of the Day\")\n",
    "    plt.ylabel(\"GHI (Global Horizontal Irradiance)\")\n",
    "    plt.title(f\"Hourly GHI Variation on {calendar.month_name[month]} {day}, Year 3 - {site}\")\n",
    "    plt.legend(loc=\"upper left\")\n",
    "    plt.show()\n",
    "\n",
    "# Create widget for month selection (using month names for clarity)\n",
    "month_widget = widgets.Dropdown(\n",
    "    options={calendar.month_name[m]: m for m in sorted(test_df[\"Month\"].unique()) if m != 0},\n",
    "    value=4,\n",
    "    description=\"Month:\"\n",
    ")\n",
    "\n",
    "# Create widget for day selection\n",
    "day_widget = widgets.Dropdown(\n",
    "    options=sorted(test_df[\"Day\"].unique()),\n",
    "    value=1,\n",
    "    description=\"Day:\"\n",
    ")\n",
    "\n",
    "# Create widget for site selection (assumes site columns contain \"GHI\")\n",
    "site_columns = [col for col in test_df.columns if \"GHI\" in col]\n",
    "site_widget = widgets.Dropdown(\n",
    "    options=site_columns,\n",
    "    value=site_columns[0],\n",
    "    description=\"Site:\"\n",
    ")\n",
    "\n",
    "# Use the interactive widget for day, month, and site selections\n",
    "interact(plot_hourly_variation, day=day_widget, month=month_widget, site=site_widget);"
   ]
  },
  {
   "cell_type": "markdown",
   "id": "dbd5106b",
   "metadata": {},
   "source": [
    "**Hourly Temperature Variation**"
   ]
  },
  {
   "cell_type": "code",
   "execution_count": 7,
   "id": "a9676dfe",
   "metadata": {},
   "outputs": [
    {
     "data": {
      "application/vnd.jupyter.widget-view+json": {
       "model_id": "a82280906dcf4b30a984c00c78f352fe",
       "version_major": 2,
       "version_minor": 0
      },
      "text/plain": [
       "interactive(children=(Dropdown(description='Month:', index=3, options={'January': np.int64(1), 'February': np.…"
      ]
     },
     "metadata": {},
     "output_type": "display_data"
    }
   ],
   "source": [
    "# Define the interactive plotting function\n",
    "def plot_hourly_variation(month, site, year):\n",
    "    # Filter the DataFrame for the specified year and month\n",
    "    filtered_df = train_df[(train_df[\"Year\"] == year) & (train_df[\"Month\"] == month)]\n",
    "    \n",
    "    plt.figure(figsize=(10, 6))\n",
    "    \n",
    "    # Plot each day's hourly variation\n",
    "    for day in sorted(filtered_df[\"Day\"].unique()):\n",
    "        subset = filtered_df[filtered_df[\"Day\"] == day]\n",
    "        plt.plot(subset[\"Hour\"], subset[site],\n",
    "                 alpha=0.5, linestyle=\"-\", marker=\"o\", lw=1.0)\n",
    "    \n",
    "    # Compute and plot the centroid: average GHI for each hour across all days\n",
    "    centroid = filtered_df.groupby(\"Hour\")[site].mean()\n",
    "    plt.plot(centroid.index, centroid, color='black', lw=2.5, marker='D', linestyle='-', label=\"Centroid\")\n",
    "    \n",
    "    plt.xlabel(\"Hour of the Day\")\n",
    "    plt.ylabel(\"Temperature\")\n",
    "    plt.title(f\"Hourly Temperature Variation for {calendar.month_name[month]} (Year {year}) - {site}\")\n",
    "    plt.legend(loc=\"upper left\")\n",
    "    plt.show()\n",
    "\n",
    "# Create widget for month selection (using month names for clarity)\n",
    "month_widget = widgets.Dropdown(\n",
    "    options={calendar.month_name[m]: m for m in sorted(train_df[\"Month\"].unique()) if m != 0},\n",
    "    value=4,\n",
    "    description=\"Month:\",\n",
    ")\n",
    "\n",
    "# Create widget for site selection (assumes site columns contain \"GHI\")\n",
    "site_columns = [col for col in train_df.columns if \"Temp\" in col]\n",
    "site_widget = widgets.Dropdown(\n",
    "    options=site_columns,\n",
    "    value=site_columns[0],\n",
    "    description=\"Site:\",\n",
    ")\n",
    "\n",
    "# Create widget for year selection\n",
    "year_widget = widgets.Dropdown(\n",
    "    options=sorted(train_df[\"Year\"].unique()),\n",
    "    value=1,\n",
    "    description=\"Year:\",\n",
    ")\n",
    "\n",
    "# Use the interactive widget\n",
    "interact(plot_hourly_variation, month=month_widget, site=site_widget, year=year_widget);"
   ]
  },
  {
   "cell_type": "code",
   "execution_count": 8,
   "id": "afa7f17b",
   "metadata": {},
   "outputs": [
    {
     "data": {
      "application/vnd.jupyter.widget-view+json": {
       "model_id": "c2cc13f476854508a9a5b9b16b0fb049",
       "version_major": 2,
       "version_minor": 0
      },
      "text/plain": [
       "interactive(children=(Dropdown(description='Month:', index=3, options={'January': np.int64(1), 'February': np.…"
      ]
     },
     "metadata": {},
     "output_type": "display_data"
    }
   ],
   "source": [
    "def plot_hourly_load_variation(month, year):\n",
    "    # Filter the DataFrame for the selected year and month\n",
    "    filtered_df = train_df[(train_df[\"Year\"] == year) & (train_df[\"Month\"] == month)]\n",
    "    \n",
    "    plt.figure(figsize=(10, 6))\n",
    "    \n",
    "    # Plot each day's hourly electricity load variation\n",
    "    for day in sorted(filtered_df[\"Day\"].unique()):\n",
    "        subset = filtered_df[filtered_df[\"Day\"] == day]\n",
    "        plt.plot(subset[\"Hour\"], subset[\"Load\"],\n",
    "                 alpha=0.5, linestyle=\"-\", marker=\"o\", lw=1.0)\n",
    "    \n",
    "    # Compute and plot the centroid: average load for each hour across all days in the month\n",
    "    centroid = filtered_df.groupby(\"Hour\")[\"Load\"].mean()\n",
    "    plt.plot(centroid.index, centroid, color='black', lw=2.5, marker='D',\n",
    "             linestyle='-', label=\"Centroid\")\n",
    "    \n",
    "    plt.xlabel(\"Hour of the Day\")\n",
    "    plt.ylabel(\"Electricity Load\")\n",
    "    plt.title(f\"Hourly Electricity Load Variation for {calendar.month_name[month]} (Year {year})\")\n",
    "    plt.legend(loc=\"upper left\")\n",
    "    plt.show()\n",
    "\n",
    "# Create widget for month selection (displaying month names for clarity)\n",
    "month_widget = widgets.Dropdown(\n",
    "    options={calendar.month_name[m]: m for m in sorted(train_df[\"Month\"].unique()) if m != 0},\n",
    "    value=4,\n",
    "    description=\"Month:\",\n",
    ")\n",
    "\n",
    "# Create widget for year selection\n",
    "year_widget = widgets.Dropdown(\n",
    "    options=sorted(train_df[\"Year\"].unique()),\n",
    "    value=1,\n",
    "    description=\"Year:\",\n",
    ")\n",
    "\n",
    "# Use the interactive widget to update the plot\n",
    "interact(plot_hourly_load_variation, month=month_widget, year=year_widget);"
   ]
  },
  {
   "cell_type": "code",
   "execution_count": null,
   "id": "54ee400a",
   "metadata": {},
   "outputs": [],
   "source": []
  }
 ],
 "metadata": {
  "kernelspec": {
   "display_name": "is403",
   "language": "python",
   "name": "python3"
  },
  "language_info": {
   "codemirror_mode": {
    "name": "ipython",
    "version": 3
   },
   "file_extension": ".py",
   "mimetype": "text/x-python",
   "name": "python",
   "nbconvert_exporter": "python",
   "pygments_lexer": "ipython3",
   "version": "3.11.13"
  }
 },
 "nbformat": 4,
 "nbformat_minor": 5
}
