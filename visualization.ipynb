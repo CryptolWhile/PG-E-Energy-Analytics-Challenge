{
 "cells": [
  {
   "cell_type": "code",
   "execution_count": 1,
   "id": "c456602d",
   "metadata": {},
   "outputs": [],
   "source": [
    "import os\n",
    "import numpy as np\n",
    "import pandas as pd\n",
    "import matplotlib.pyplot as plt\n",
    "import calendar\n",
    "\n",
    "# --- Set global Matplotlib parameters ---\n",
    "plt.rcParams[\"font.family\"] = \"serif\"\n",
    "#plt.rcParams[\"text.usetex\"] = True\n",
    "plt.rcParams[\"text.latex.preamble\"] = r\"\\usepackage{amsmath}\"\n",
    "plt.rcParams[\"figure.dpi\"] = 1200\n",
    "plt.rcParams[\"font.size\"] = 20\n",
    "plt.rcParams[\"axes.labelsize\"] = 20\n",
    "plt.rcParams[\"axes.titlesize\"] = 20\n",
    "plt.rcParams[\"legend.fontsize\"] = 20\n",
    "plt.rcParams[\"xtick.direction\"] = \"in\"\n",
    "plt.rcParams[\"ytick.direction\"] = \"in\"\n",
    "plt.rcParams[\"xtick.major.size\"] = 5.0\n",
    "plt.rcParams[\"xtick.minor.size\"] = 3.0\n",
    "plt.rcParams[\"ytick.major.size\"] = 5.0\n",
    "plt.rcParams[\"ytick.minor.size\"] = 3.0\n",
    "plt.rcParams[\"axes.linewidth\"] = 1.5\n",
    "plt.rcParams[\"legend.handlelength\"] = 2.0"
   ]
  },
  {
   "cell_type": "code",
   "execution_count": null,
   "id": "2340a6e8",
   "metadata": {},
   "outputs": [],
   "source": [
    "#Tạo thư mục lưu hình ảnh (figures).\n",
    "\n",
    "# --- Load training data (Years 1 and 2) ---\n",
    "train_df = pd.read_excel('./datasets/training.xlsx', sheet_name='Data')\n",
    "train_df.to_csv('./datasets/training.csv', index=False)\n",
    "\n",
    "# Create directory for saving figures if it doesn't exist\n",
    "output_dir = \"./figures\"\n",
    "if not os.path.exists(output_dir):\n",
    "    os.makedirs(output_dir)"
   ]
  },
  {
   "cell_type": "markdown",
   "id": "e12132b3",
   "metadata": {},
   "source": [
    "**Hourly GHI Variation**\n"
   ]
  },
  {
   "cell_type": "markdown",
   "id": "f68ef42d",
   "metadata": {},
   "source": [
    "**Year 1**"
   ]
  },
  {
   "cell_type": "markdown",
   "id": "e5dfe24b",
   "metadata": {},
   "source": [
    "Mục tiêu\n",
    "\n",
    "Phân tích sự biến thiên theo giờ của bức xạ mặt trời (GHI) trong năm đầu tiên ở Site-1, bằng cách:\n",
    "\n",
    "Lấy mẫu 4 tháng đại diện cho 4 mùa (tháng 1 → mùa đông , 4 → mùa xuân, 7 → mùa hè, 8 → mùa thu).\n",
    "\n",
    "Vẽ đường GHI theo giờ trong từng ngày của tháng.\n",
    "\n",
    "Thêm “đường trung bình (centroid)” biểu diễn giá trị GHI trung bình mỗi giờ."
   ]
  },
  {
   "cell_type": "code",
   "execution_count": null,
   "id": "a379b9d0",
   "metadata": {},
   "outputs": [],
   "source": [
    "# --- Hourly GHI Variation (Year 1) ---\n",
    "months = [4, # Mid-spring\n",
    "          7, # Mid-summer\n",
    "          8, # Mid-fall\n",
    "          1] # Mid-winter\n",
    "\n",
    "for month in months:\n",
    "    # Lọc dữ liệu theo năm và tháng cụ thể (Year 1)\n",
    "    filtered_df = train_df[(train_df[\"Year\"] == 1) & (train_df[\"Month\"] == month)]\n",
    "    \n",
    "    # Create a new figure for the current month\n",
    "    plt.figure(figsize=(10, 6))\n",
    "    \n",
    "    # Lặp qua từng ngày trong tháng. Vẽ đường GHI theo giờ trong từng ngày\n",
    "    for day in sorted(filtered_df[\"Day\"].unique()):\n",
    "        subset = filtered_df[filtered_df[\"Day\"] == day]\n",
    "        plt.plot(subset[\"Hour\"], subset[\"Site-1 GHI\"],\n",
    "                 alpha=0.5, linestyle=\"-\", marker=\"o\", lw=1.0)\n",
    "\n",
    "    # Tính “centroid” (đường trung bình): \n",
    "    # GHI trung bình cho mỗi giờ trong tất cả các ngày trong tháng\n",
    "    centroid = filtered_df.groupby(\"Hour\")[\"Site-1 GHI\"].mean()\n",
    "    plt.plot(centroid.index, centroid, color='black', lw=2.5, marker='D', linestyle='-', label=\"Centroid\")\n",
    "\n",
    "    plt.xlabel(\"Hour of the Day\")\n",
    "    plt.ylabel(\"GHI (Global Horizontal Irradiance)\")\n",
    "    plt.legend(loc=\"upper left\")\n",
    "    # plt.title(f\"Hourly GHI Variation for {calendar.month_name[month]} (Year 1)\")\n",
    "    \n",
    "    # Lưu biểu đồ dạng PDF vector chất lượng cao vào thư mục figures/.\n",
    "    output_filename = os.path.join(output_dir, f\"hourly_GHI_variation_{month}_Site_1_Year_1.pdf\")\n",
    "    plt.savefig(output_filename, format='pdf')\n",
    "    \n",
    "    # Display the plot\n",
    "    # plt.show()\n",
    "    plt.close()"
   ]
  },
  {
   "cell_type": "markdown",
   "id": "bb7bcf6d",
   "metadata": {},
   "source": [
    "| Tháng                  | Đặc trưng quan sát được             | Giải thích vật lý                 |\n",
    "| ---------------------- | ----------------------------------- | --------------------------------- |\n",
    "| **Tháng 1 (mùa đông)** | GHI thấp, khoảng 8h–17h có nắng yếu | Mặt trời thấp, ngày ngắn          |\n",
    "| **Tháng 4 (mùa xuân)** | GHI tăng rõ, đỉnh khoảng 11h–13h    | Nhiệt độ và độ chiếu sáng tăng    |\n",
    "| **Tháng 7 (mùa hè)**   | GHI cao nhất, kéo dài từ 6h–18h     | Ngày dài, mặt trời gần thiên đỉnh |\n",
    "| **Tháng 8 (mùa thu)**  | GHI giảm nhẹ nhưng vẫn cao          | Bức xạ giảm dần khi sang thu      |\n"
   ]
  },
  {
   "cell_type": "markdown",
   "id": "702f3371",
   "metadata": {},
   "source": [
    "**Year 2**"
   ]
  },
  {
   "cell_type": "code",
   "execution_count": 4,
   "id": "b8db890d",
   "metadata": {},
   "outputs": [],
   "source": [
    "# --- Hourly GHI Variation (Year 2) ---\n",
    "months = [4, # Mid-spring\n",
    "          7, # Mid-summer\n",
    "          8, # Mid-fall\n",
    "          1] # Mid-winter\n",
    "\n",
    "for month in months:\n",
    "    # Filter the DataFrame for Year 1 and the current month\n",
    "    filtered_df = train_df[(train_df[\"Year\"] == 2) & (train_df[\"Month\"] == month)]\n",
    "    \n",
    "    # Create a new figure for the current month\n",
    "    plt.figure(figsize=(10, 6))\n",
    "    \n",
    "    # Plot each day's hourly GHI variation on the same figure\n",
    "    for day in sorted(filtered_df[\"Day\"].unique()):\n",
    "        subset = filtered_df[filtered_df[\"Day\"] == day]\n",
    "        plt.plot(subset[\"Hour\"], subset[\"Site-1 GHI\"],\n",
    "                 alpha=0.5, linestyle=\"-\", marker=\"o\", lw=1.0)\n",
    "\n",
    "    # Compute the plot the centroid: average GHI for each hour across all days in the month\n",
    "    centroid = filtered_df.groupby(\"Hour\")[\"Site-1 GHI\"].mean()\n",
    "    plt.plot(centroid.index, centroid, color='black', lw=2.5, marker='D', linestyle='-', label=\"Centroid\")\n",
    "\n",
    "    plt.xlabel(\"Hour of the Day\")\n",
    "    plt.ylabel(\"GHI (Global Horizontal Irradiance)\")\n",
    "    plt.legend(loc=\"upper left\")\n",
    "    # plt.title(f\"Hourly GHI Variation for {calendar.month_name[month]} (Year 2)\")\n",
    "    \n",
    "    # Save the figure before showing it\n",
    "    output_filename = os.path.join(output_dir, f\"hourly_GHI_variation_{month}_Site_1_Year_2.pdf\")\n",
    "    plt.savefig(output_filename, format='pdf')\n",
    "    \n",
    "    # Display the plot\n",
    "    # plt.show()\n",
    "    plt.close()"
   ]
  },
  {
   "cell_type": "markdown",
   "id": "bc8628d8",
   "metadata": {},
   "source": [
    "Nhận xét :\n",
    "\n",
    "Các đồ thị GHI theo giờ trong ngày cho Year 2 (Site-1) thể hiện đặc điểm tương tự như Year 1, chứng minh tính chu kỳ theo mùa rõ rệt trong dữ liệu.\n",
    "\n",
    "Tháng 1 (mùa đông): GHI thấp nhất, đỉnh khoảng 12–13h, biên độ dao động nhỏ do góc chiếu mặt trời thấp.\n",
    "\n",
    "Tháng 4 (mùa xuân): GHI tăng mạnh, đồ thị có dạng parabol đối xứng — thể hiện cường độ nắng ổn định.\n",
    "\n",
    "Tháng 7 (mùa hè): GHI đạt cực đại trong năm, kéo dài từ 6h–18h, với giá trị trung bình cao hơn hẳn các tháng khác.\n",
    "\n",
    "Tháng 8 (mùa thu): Cường độ giảm nhẹ, nhưng vẫn duy trì dạng cong mượt đặc trưng cho thời kỳ sau đỉnh mùa hè.\n",
    "\n",
    "Sự tương đồng về hình dạng giữa hai năm cho thấy mô hình bức xạ mặt trời ổn định, ít chịu ảnh hưởng của biến động khí hậu cực đoan, từ đó giúp tăng độ tin cậy cho các mô hình dự báo phụ tải điện phụ thuộc GHI."
   ]
  },
  {
   "cell_type": "markdown",
   "id": "0121a7cd",
   "metadata": {},
   "source": [
    "**Temperature**\n"
   ]
  },
  {
   "cell_type": "markdown",
   "id": "9681116c",
   "metadata": {},
   "source": [
    "**Year 1**"
   ]
  },
  {
   "cell_type": "code",
   "execution_count": 5,
   "id": "10793bd3",
   "metadata": {},
   "outputs": [],
   "source": [
    "# --- Hourly GHI Variation (Year 1) ---\n",
    "months = [4, # Mid-spring\n",
    "          7, # Mid-summer\n",
    "          8, # Mid-fall\n",
    "          1] # Mid-winter\n",
    "\n",
    "for month in months:\n",
    "    # Filter the DataFrame for Year 1 and the current month\n",
    "    filtered_df = train_df[(train_df[\"Year\"] == 1) & (train_df[\"Month\"] == month)]\n",
    "    \n",
    "    # Create a new figure for the current month\n",
    "    plt.figure(figsize=(10, 6))\n",
    "    \n",
    "    # Plot each day's hourly Temperature variation on the same figure\n",
    "    for day in sorted(filtered_df[\"Day\"].unique()):\n",
    "        subset = filtered_df[filtered_df[\"Day\"] == day]\n",
    "        plt.plot(subset[\"Hour\"], subset[\"Site-1 Temp\"],\n",
    "                 alpha=0.5, linestyle=\"-\", marker=\"o\", lw=1.0)\n",
    "    \n",
    "    # Compute the centroid: average Temperature for each hour across all days in the month\n",
    "    centroid = filtered_df.groupby(\"Hour\")[\"Site-1 Temp\"].mean()\n",
    "    \n",
    "    # Plot the centroid with a distinct style\n",
    "    plt.plot(centroid.index, centroid, color='black', lw=2.5, marker='D', linestyle='-', label=\"Centroid\")\n",
    "    \n",
    "    plt.xlabel(\"Hour of the Day\")\n",
    "    plt.ylabel(\"Temperature\")\n",
    "    # plt.title(f\"Hourly Temperature Variation for {calendar.month_name[month]} (Year 1)\")\n",
    "    \n",
    "    # Place the legend inside the figure (upper right corner)\n",
    "    plt.legend(loc=\"upper right\")\n",
    "    \n",
    "    plt.tight_layout()\n",
    "    \n",
    "    # Save the figure before showing it\n",
    "    output_filename = os.path.join(output_dir, f\"hourly_temperature_variation_{month}_Site_1_Year_1.pdf\")\n",
    "    plt.savefig(output_filename, format='pdf')\n",
    "    \n",
    "    # Display the plot\n",
    "    # plt.show()\n",
    "    plt.close()"
   ]
  },
  {
   "cell_type": "markdown",
   "id": "cad19a99",
   "metadata": {},
   "source": [
    "Biểu đồ biến thiên nhiệt độ theo giờ trong ngày tại Site-1 cho Year 1 cho thấy đặc điểm rõ ràng theo mùa:\n",
    "\n",
    "Tháng 1 (mùa đông): Nhiệt độ thấp, dao động hẹp (~15–25°C), đỉnh khoảng 13–14h.\n",
    "\n",
    "Tháng 4 (mùa xuân): Nhiệt độ tăng nhẹ, biên độ ngày–đêm rõ rệt hơn.\n",
    "\n",
    "Tháng 7 (mùa hè): Cao nhất trong năm, với đỉnh nhiệt độ đạt cực đại khoảng 13–15h, sau đó giảm dần về tối.\n",
    "\n",
    "Tháng 8 (mùa thu): Nhiệt độ bắt đầu giảm, nhưng vẫn duy trì dạng cong đặc trưng của chu kỳ ngày.\n",
    "\n",
    "Đường trung bình (centroid) thể hiện quy luật nhiệt độ điển hình trong ngày, đồng thời giúp nhận ra các biến động nhỏ do thời tiết từng ngày."
   ]
  },
  {
   "cell_type": "markdown",
   "id": "c5c158a5",
   "metadata": {},
   "source": [
    "**Electricty Load**"
   ]
  },
  {
   "cell_type": "markdown",
   "id": "cc14903f",
   "metadata": {},
   "source": [
    "**Year 1**"
   ]
  },
  {
   "cell_type": "code",
   "execution_count": 6,
   "id": "6dd66c0e",
   "metadata": {},
   "outputs": [],
   "source": [
    "for month in months:\n",
    "    # Filter the DataFrame for Year 1 and the current month\n",
    "    filtered_df = train_df[(train_df[\"Year\"] == 1) & (train_df[\"Month\"] == month)]\n",
    "    \n",
    "    # Create a new figure for the current month\n",
    "    plt.figure(figsize=(10, 6))\n",
    "    \n",
    "    # Plot each day's hourly Electricity Load variation on the same figure\n",
    "    for day in sorted(filtered_df[\"Day\"].unique()):\n",
    "        subset = filtered_df[filtered_df[\"Day\"] == day]\n",
    "        plt.plot(subset[\"Hour\"], subset[\"Load\"],\n",
    "                 alpha=0.5, linestyle=\"-\", marker=\"o\", lw=1.0)\n",
    "    \n",
    "    # Compute the centroid: average Electricity Load for each hour across all days in the month\n",
    "    centroid = filtered_df.groupby(\"Hour\")[\"Load\"].mean()\n",
    "    \n",
    "    # Plot the centroid with a distinct style\n",
    "    plt.plot(centroid.index, centroid, color='black', lw=2.5, marker='D', linestyle='-', label=\"Centroid\")\n",
    "    \n",
    "    plt.xlabel(\"Hour of the Day\")\n",
    "    plt.ylabel(\"Electricity Load\")\n",
    "    plt.title(f\"Hourly Electricity Load Variation for {calendar.month_name[month]} (Year 1)\")\n",
    "    \n",
    "    # Place the legend inside the figure (upper right corner)\n",
    "    plt.legend(loc=\"upper right\")\n",
    "    \n",
    "    plt.tight_layout()\n",
    "    \n",
    "    # Save the figure before showing it\n",
    "    output_filename = os.path.join(output_dir, f\"hourly_electricity_load_variation_{month}_Year_1.pdf\")\n",
    "    plt.savefig(output_filename, format='pdf')\n",
    "    \n",
    "    # Display the plot\n",
    "    # plt.show()\n",
    "    plt.close()"
   ]
  },
  {
   "cell_type": "markdown",
   "id": "f8de2c82",
   "metadata": {},
   "source": [
    "Vào buổi sáng (0–6 h), phụ tải thấp do nhu cầu sinh hoạt giảm.\n",
    "\n",
    "Tăng nhanh từ 7–10 h, đạt cực đại vào buổi trưa hoặc đầu buổi tối.\n",
    "\n",
    "Mùa hè (tháng 7) có đỉnh tải cao nhất, phản ánh ảnh hưởng mạnh của nhiệt độ và GHI đến nhu cầu điện."
   ]
  },
  {
   "cell_type": "markdown",
   "id": "0de0d37e",
   "metadata": {},
   "source": [
    "**Electricity vs. GHI & Temperature**"
   ]
  }
 ],
 "metadata": {
  "kernelspec": {
   "display_name": "is403",
   "language": "python",
   "name": "python3"
  },
  "language_info": {
   "codemirror_mode": {
    "name": "ipython",
    "version": 3
   },
   "file_extension": ".py",
   "mimetype": "text/x-python",
   "name": "python",
   "nbconvert_exporter": "python",
   "pygments_lexer": "ipython3",
   "version": "3.11.13"
  }
 },
 "nbformat": 4,
 "nbformat_minor": 5
}
